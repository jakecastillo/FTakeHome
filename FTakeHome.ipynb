{
 "cells": [
  {
   "cell_type": "code",
   "execution_count": 952,
   "metadata": {},
   "outputs": [
    {
     "data": {
      "text/html": [
       "<div>\n",
       "<style scoped>\n",
       "    .dataframe tbody tr th:only-of-type {\n",
       "        vertical-align: middle;\n",
       "    }\n",
       "\n",
       "    .dataframe tbody tr th {\n",
       "        vertical-align: top;\n",
       "    }\n",
       "\n",
       "    .dataframe thead th {\n",
       "        text-align: right;\n",
       "    }\n",
       "</style>\n",
       "<table border=\"1\" class=\"dataframe\">\n",
       "  <thead>\n",
       "    <tr style=\"text-align: right;\">\n",
       "      <th></th>\n",
       "      <th>team</th>\n",
       "      <th>applicants</th>\n",
       "    </tr>\n",
       "  </thead>\n",
       "  <tbody>\n",
       "    <tr>\n",
       "      <td>0</td>\n",
       "      <td>{'name': 'Eddie', 'attributes': {'intelligence...</td>\n",
       "      <td>{'name': 'John', 'attributes': {'intelligence'...</td>\n",
       "    </tr>\n",
       "    <tr>\n",
       "      <td>1</td>\n",
       "      <td>{'name': 'Will', 'attributes': {'intelligence'...</td>\n",
       "      <td>{'name': 'Jane', 'attributes': {'intelligence'...</td>\n",
       "    </tr>\n",
       "    <tr>\n",
       "      <td>2</td>\n",
       "      <td>{'name': 'Mike', 'attributes': {'intelligence'...</td>\n",
       "      <td>{'name': 'Joe', 'attributes': {'intelligence':...</td>\n",
       "    </tr>\n",
       "  </tbody>\n",
       "</table>\n",
       "</div>"
      ],
      "text/plain": [
       "                                                team  \\\n",
       "0  {'name': 'Eddie', 'attributes': {'intelligence...   \n",
       "1  {'name': 'Will', 'attributes': {'intelligence'...   \n",
       "2  {'name': 'Mike', 'attributes': {'intelligence'...   \n",
       "\n",
       "                                          applicants  \n",
       "0  {'name': 'John', 'attributes': {'intelligence'...  \n",
       "1  {'name': 'Jane', 'attributes': {'intelligence'...  \n",
       "2  {'name': 'Joe', 'attributes': {'intelligence':...  "
      ]
     },
     "execution_count": 952,
     "metadata": {},
     "output_type": "execute_result"
    }
   ],
   "source": [
    "import pandas as pd\n",
    "import json\n",
    "import math\n",
    "from pandas.io.json import json_normalize\n",
    "\n",
    "#Initialize dataframe\n",
    "datahouse = pd.read_json(\"datahouse.json\", orient=\"column\")\n",
    "datahouse.head()"
   ]
  },
  {
   "cell_type": "code",
   "execution_count": 953,
   "metadata": {},
   "outputs": [
    {
     "data": {
      "text/plain": [
       "0    {'name': 'Eddie', 'attributes': {'intelligence...\n",
       "1    {'name': 'Will', 'attributes': {'intelligence'...\n",
       "2    {'name': 'Mike', 'attributes': {'intelligence'...\n",
       "Name: team, dtype: object"
      ]
     },
     "execution_count": 953,
     "metadata": {},
     "output_type": "execute_result"
    }
   ],
   "source": [
    "# check team data\n",
    "datahouse.team.head()"
   ]
  },
  {
   "cell_type": "code",
   "execution_count": 954,
   "metadata": {},
   "outputs": [
    {
     "data": {
      "text/plain": [
       "0    {'name': 'John', 'attributes': {'intelligence'...\n",
       "1    {'name': 'Jane', 'attributes': {'intelligence'...\n",
       "2    {'name': 'Joe', 'attributes': {'intelligence':...\n",
       "Name: applicants, dtype: object"
      ]
     },
     "execution_count": 954,
     "metadata": {},
     "output_type": "execute_result"
    }
   ],
   "source": [
    "# check applicant data\n",
    "datahouse.applicants.head()"
   ]
  },
  {
   "cell_type": "code",
   "execution_count": 955,
   "metadata": {},
   "outputs": [
    {
     "data": {
      "text/html": [
       "<div>\n",
       "<style scoped>\n",
       "    .dataframe tbody tr th:only-of-type {\n",
       "        vertical-align: middle;\n",
       "    }\n",
       "\n",
       "    .dataframe tbody tr th {\n",
       "        vertical-align: top;\n",
       "    }\n",
       "\n",
       "    .dataframe thead th {\n",
       "        text-align: right;\n",
       "    }\n",
       "</style>\n",
       "<table border=\"1\" class=\"dataframe\">\n",
       "  <thead>\n",
       "    <tr style=\"text-align: right;\">\n",
       "      <th></th>\n",
       "      <th>name</th>\n",
       "      <th>attributes.intelligence</th>\n",
       "      <th>attributes.strength</th>\n",
       "      <th>attributes.endurance</th>\n",
       "      <th>attributes.spicyFoodTolerance</th>\n",
       "    </tr>\n",
       "  </thead>\n",
       "  <tbody>\n",
       "    <tr>\n",
       "      <td>0</td>\n",
       "      <td>Eddie</td>\n",
       "      <td>1</td>\n",
       "      <td>5</td>\n",
       "      <td>3</td>\n",
       "      <td>1</td>\n",
       "    </tr>\n",
       "    <tr>\n",
       "      <td>1</td>\n",
       "      <td>Will</td>\n",
       "      <td>1</td>\n",
       "      <td>5</td>\n",
       "      <td>3</td>\n",
       "      <td>1</td>\n",
       "    </tr>\n",
       "    <tr>\n",
       "      <td>2</td>\n",
       "      <td>Mike</td>\n",
       "      <td>9</td>\n",
       "      <td>4</td>\n",
       "      <td>1</td>\n",
       "      <td>5</td>\n",
       "    </tr>\n",
       "  </tbody>\n",
       "</table>\n",
       "</div>"
      ],
      "text/plain": [
       "    name  attributes.intelligence  attributes.strength  attributes.endurance  \\\n",
       "0  Eddie                        1                    5                     3   \n",
       "1   Will                        1                    5                     3   \n",
       "2   Mike                        9                    4                     1   \n",
       "\n",
       "   attributes.spicyFoodTolerance  \n",
       "0                              1  \n",
       "1                              1  \n",
       "2                              5  "
      ]
     },
     "execution_count": 955,
     "metadata": {},
     "output_type": "execute_result"
    }
   ],
   "source": [
    "# normalize data so it's easier to access\n",
    "team_normalized = json_normalize(datahouse.team)\n",
    "team_normalized"
   ]
  },
  {
   "cell_type": "code",
   "execution_count": 956,
   "metadata": {},
   "outputs": [],
   "source": [
    "# iterate through each attribute and find an average score\n",
    "teamcount = 0\n",
    "team_intelligence = 0\n",
    "team_strength = 0\n",
    "team_endurance = 0\n",
    "team_spicy = 0\n",
    "\n",
    "for element in team_normalized['name']:\n",
    "    teamcount += 1\n",
    "    \n",
    "for i in team_normalized['attributes.intelligence']:\n",
    "    team_intelligence += i\n",
    "\n",
    "for i in team_normalized['attributes.strength']:\n",
    "    team_strength += i\n",
    "\n",
    "for i in team_normalized['attributes.endurance']:\n",
    "    team_endurance += i\n",
    "    \n",
    "for i in team_normalized['attributes.spicyFoodTolerance']:\n",
    "    team_spicy += i"
   ]
  },
  {
   "cell_type": "code",
   "execution_count": 957,
   "metadata": {},
   "outputs": [],
   "source": [
    "# average function\n",
    "team_intell_avg = team_intelligence / teamcount\n",
    "team_str_avg = team_strength / teamcount\n",
    "team_endu_avg = team_endurance / teamcount\n",
    "team_spicytol_avg = team_spicy / teamcount"
   ]
  },
  {
   "cell_type": "code",
   "execution_count": 958,
   "metadata": {},
   "outputs": [
    {
     "name": "stdout",
     "output_type": "stream",
     "text": [
      "The amount of members in the team is 3\n",
      "The average intelligence score for the team is 3.6666666666666665\n",
      "The average strength score for the team is 4.666666666666667\n",
      "The average endurance score for the team is 2.3333333333333335\n",
      "The average spicy tolerance score for the team is 2.3333333333333335\n"
     ]
    }
   ],
   "source": [
    "# check numbers to make sure they're correct\n",
    "print('The amount of members in the team is ' + str(teamcount))\n",
    "print('The average intelligence score for the team is ' + str(team_intell_avg))\n",
    "print('The average strength score for the team is ' + str(team_str_avg))\n",
    "print('The average endurance score for the team is ' + str(team_endu_avg))\n",
    "print('The average spicy tolerance score for the team is ' + str(team_spicytol_avg))"
   ]
  },
  {
   "cell_type": "code",
   "execution_count": 1014,
   "metadata": {},
   "outputs": [
    {
     "data": {
      "text/html": [
       "<div>\n",
       "<style scoped>\n",
       "    .dataframe tbody tr th:only-of-type {\n",
       "        vertical-align: middle;\n",
       "    }\n",
       "\n",
       "    .dataframe tbody tr th {\n",
       "        vertical-align: top;\n",
       "    }\n",
       "\n",
       "    .dataframe thead th {\n",
       "        text-align: right;\n",
       "    }\n",
       "</style>\n",
       "<table border=\"1\" class=\"dataframe\">\n",
       "  <thead>\n",
       "    <tr style=\"text-align: right;\">\n",
       "      <th></th>\n",
       "      <th>name</th>\n",
       "      <th>attributes.intelligence</th>\n",
       "      <th>attributes.strength</th>\n",
       "      <th>attributes.endurance</th>\n",
       "      <th>attributes.spicyFoodTolerance</th>\n",
       "    </tr>\n",
       "  </thead>\n",
       "  <tbody>\n",
       "    <tr>\n",
       "      <td>0</td>\n",
       "      <td>John</td>\n",
       "      <td>4</td>\n",
       "      <td>5</td>\n",
       "      <td>2</td>\n",
       "      <td>1</td>\n",
       "    </tr>\n",
       "    <tr>\n",
       "      <td>1</td>\n",
       "      <td>Jane</td>\n",
       "      <td>7</td>\n",
       "      <td>4</td>\n",
       "      <td>1</td>\n",
       "      <td>10</td>\n",
       "    </tr>\n",
       "    <tr>\n",
       "      <td>2</td>\n",
       "      <td>Joe</td>\n",
       "      <td>1</td>\n",
       "      <td>1</td>\n",
       "      <td>1</td>\n",
       "      <td>10</td>\n",
       "    </tr>\n",
       "  </tbody>\n",
       "</table>\n",
       "</div>"
      ],
      "text/plain": [
       "   name  attributes.intelligence  attributes.strength  attributes.endurance  \\\n",
       "0  John                        4                    5                     2   \n",
       "1  Jane                        7                    4                     1   \n",
       "2   Joe                        1                    1                     1   \n",
       "\n",
       "   attributes.spicyFoodTolerance  \n",
       "0                              1  \n",
       "1                             10  \n",
       "2                             10  "
      ]
     },
     "execution_count": 1014,
     "metadata": {},
     "output_type": "execute_result"
    }
   ],
   "source": [
    "# normalize applicant data so it's easier to read\n",
    "applicants_normalized = json_normalize(datahouse.applicants)\n",
    "applicants_normalized"
   ]
  },
  {
   "cell_type": "markdown",
   "metadata": {},
   "source": [
    "## Weight application capatibility rating\n",
    "Intelligence shows potential. In physics, potential is wasted energy. Without grit, intellect can only go so far.Weight of endurance (mental endurance) and intellect is equal.\n",
    "\n",
    "\n",
    "Strength is kind of useful if we are using this JSON framework. In an office where you need to be agile, strength can have its uses. Weighted third highest.\n",
    "\n",
    "\n",
    "Spicy food tolerance is great. If we can't bond over spicy food, we can't eat together :c. Just kidding spicy food tolerance doesn't have much to do with team capatibility. Weighted the lowest, sadly.\n",
    "\n",
    "\n",
    "If their original score is lower than the teams average, they get a lower weight rating."
   ]
  },
  {
   "cell_type": "code",
   "execution_count": 1015,
   "metadata": {},
   "outputs": [],
   "source": [
    "applicant_list = []\n",
    "names = []\n",
    "app_intell_score = []\n",
    "app_str_score = []\n",
    "app_endu_score = []\n",
    "app_spicy_score = []\n",
    "\n",
    "# Apply the secret formula\n",
    "\n",
    "for i in range(len(applicants_normalized['name'])):\n",
    "    app_name = applicants_normalized['name']\n",
    "    names.insert(i,app_name[i])\n",
    "               \n",
    "for i in range(len(applicants_normalized['attributes.intelligence'])):\n",
    "    if applicants_normalized['attributes.intelligence'][i] >= team_intell_avg:\n",
    "        app_intell = 0.3*(applicants_normalized['attributes.intelligence']/team_intell_avg)\n",
    "        app_intell_score.insert(i,app_intell[i])\n",
    "    else:\n",
    "        app_intell = 0.25*(applicants_normalized['attributes.intelligence']/team_intell_avg)\n",
    "        app_intell_score.insert(i,app_intell[i])\n",
    "\n",
    "for i in range(len(applicants_normalized['attributes.strength'])):\n",
    "    if applicants_normalized['attributes.strength'][i] >= team_str_avg:\n",
    "        app_str = 0.15*(applicants_normalized['attributes.strength']/team_str_avg)\n",
    "        app_str_score.insert(i,app_str[i])\n",
    "    else:\n",
    "        app_str = 0.1*(applicants_normalized['attributes.strength']/team_str_avg)\n",
    "        app_str_score.insert(i,app_str[i])\n",
    "\n",
    "for i in range(len(applicants_normalized['attributes.endurance'])):\n",
    "    if applicants_normalized['attributes.endurance'][i] >= team_endu_avg:\n",
    "        app_endu = 0.3*(applicants_normalized['attributes.endurance']/team_endu_avg)\n",
    "        app_endu_score.insert(i,app_endu[i])\n",
    "    else:\n",
    "        app_endu = 0.3*(applicants_normalized['attributes.endurance']/team_endu_avg)\n",
    "        app_endu_score.insert(i,app_endu[i])\n",
    "\n",
    "for i in range(len(applicants_normalized['attributes.spicyFoodTolerance'])):\n",
    "    if applicants_normalized['attributes.spicyFoodTolerance'][i] >= team_spicytol_avg:\n",
    "        app_spicy = 0.005*(applicants_normalized['attributes.spicyFoodTolerance']/team_spicytol_avg)\n",
    "        app_spicy_score.insert(i,app_spicy[i])\n",
    "    else:\n",
    "        app_spicy = 0.0025*(applicants_normalized['attributes.spicyFoodTolerance']/team_spicytol_avg)\n",
    "        app_spicy_score.insert(i,app_spicy[i])\n"
   ]
  },
  {
   "cell_type": "code",
   "execution_count": 1016,
   "metadata": {},
   "outputs": [
    {
     "name": "stdout",
     "output_type": "stream",
     "text": [
      "['John', 'Jane', 'Joe']\n",
      "[0.3272727272727273, 0.5727272727272728, 0.06818181818181819]\n",
      "[0.1607142857142857, 0.08571428571428572, 0.02142857142857143]\n",
      "[0.2571428571428571, 0.12857142857142856, 0.12857142857142856]\n",
      "[0.0010714285714285715, 0.02142857142857143, 0.02142857142857143]\n"
     ]
    }
   ],
   "source": [
    "print(names)\n",
    "print(app_intell_score)\n",
    "print(app_str_score)\n",
    "print(app_endu_score)\n",
    "print(app_spicy_score)\n",
    "\n",
    "# Create list with each applicant's scores\n",
    "attribute_list = [app_intell_score,app_str_score,app_endu_score,app_spicy_score]\n",
    "\n",
    "# Move to applicant list and sum all values\n",
    "# Could not find a way to do this iteratively\n",
    "applicant_list = [sum(item[0] for item in attribute_list),sum([item[1] for item in attribute_list]),sum([item[2] for item in attribute_list])]\n"
   ]
  },
  {
   "cell_type": "code",
   "execution_count": 1017,
   "metadata": {},
   "outputs": [
    {
     "name": "stdout",
     "output_type": "stream",
     "text": [
      "['John', 'Jane', 'Joe']\n"
     ]
    },
    {
     "data": {
      "text/plain": [
       "[0.7462012987012987, 0.8084415584415585, 0.2396103896103896]"
      ]
     },
     "execution_count": 1017,
     "metadata": {},
     "output_type": "execute_result"
    }
   ],
   "source": [
    "print(names)\n",
    "applicant_list"
   ]
  },
  {
   "cell_type": "code",
   "execution_count": 1018,
   "metadata": {},
   "outputs": [],
   "source": [
    "scoredApplicants = {'scoredApplicants': [\n",
    "        {\n",
    "            'name': names[0],\n",
    "            'score': applicant_list[1]\n",
    "        },{\n",
    "            'name': names[0],\n",
    "            'score': applicant_list[1]\n",
    "        },{\n",
    "            'name': names[0],\n",
    "            'score': applicant_list[1]\n",
    "        }\n",
    "    ]\n",
    " }"
   ]
  },
  {
   "cell_type": "code",
   "execution_count": 1019,
   "metadata": {},
   "outputs": [],
   "source": [
    "with open('scoredApplicants.json', \"w\") as file:\n",
    "    json.dump(scoredApplicants, file, indent=4, sort_keys=True)"
   ]
  }
 ],
 "metadata": {
  "kernelspec": {
   "display_name": "Python 3",
   "language": "python",
   "name": "python3"
  },
  "language_info": {
   "codemirror_mode": {
    "name": "ipython",
    "version": 3
   },
   "file_extension": ".py",
   "mimetype": "text/x-python",
   "name": "python",
   "nbconvert_exporter": "python",
   "pygments_lexer": "ipython3",
   "version": "3.7.4"
  }
 },
 "nbformat": 4,
 "nbformat_minor": 2
}
